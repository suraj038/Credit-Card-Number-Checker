{
 "cells": [
  {
   "cell_type": "code",
   "execution_count": 10,
   "metadata": {},
   "outputs": [
    {
     "name": "stdout",
     "output_type": "stream",
     "text": [
      "Credit card #: 4602354236000045\n",
      "The credit card number is not valid!\n"
     ]
    }
   ],
   "source": [
    "def main():\n",
    "    credit_card_num = list(input(\"Credit card #: \"))\n",
    "    checksum_nums = [int(v) * 2 for i, v in enumerate(credit_card_num) if i % 2 == 0]\n",
    "    checksum = 0\n",
    "\n",
    "    for i, v in enumerate(credit_card_num):\n",
    "        checksum += (i % 2 != 0 and int(credit_card_num[i]) or 0)\n",
    "\n",
    "    for v in checksum_nums:\n",
    "        if v >= 10:\n",
    "            q, r = divmod(v, 10)\n",
    "            checksum += q + r\n",
    "        else:\n",
    "            checksum += v\n",
    "\n",
    "    if checksum % 10 == 0: print (\"The credit card number is valid.\")\n",
    "    else: print (\"The credit card number is not valid!\")\n",
    "\n",
    "\n",
    "if __name__ == \"__main__\":\n",
    "    main()"
   ]
  }
 ],
 "metadata": {
  "kernelspec": {
   "display_name": "Python 3",
   "language": "python",
   "name": "python3"
  },
  "language_info": {
   "codemirror_mode": {
    "name": "ipython",
    "version": 3
   },
   "file_extension": ".py",
   "mimetype": "text/x-python",
   "name": "python",
   "nbconvert_exporter": "python",
   "pygments_lexer": "ipython3",
   "version": "3.6.7"
  }
 },
 "nbformat": 4,
 "nbformat_minor": 2
}
